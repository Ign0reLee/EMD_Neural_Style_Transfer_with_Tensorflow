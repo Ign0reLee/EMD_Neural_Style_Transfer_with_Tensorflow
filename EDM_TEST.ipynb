{
 "cells": [
  {
   "cell_type": "code",
   "execution_count": 9,
   "metadata": {},
   "outputs": [],
   "source": [
    "import os, sys\n",
    "import tensorflow as tf\n",
    "import numpy as np\n",
    "import cv2\n",
    "from itertools import *\n",
    "import matplotlib.pyplot as plt\n",
    "import matplotlib.cm as cm\n",
    "import random\n",
    "import time\n",
    "import Batch as batch\n",
    "import EDM_Model as edm\n",
    "import vgg.vgg19 as vgg"
   ]
  },
  {
   "cell_type": "code",
   "execution_count": 10,
   "metadata": {},
   "outputs": [],
   "source": [
    "content_name = 'brad_pitt.jpg'\n",
    "style_name = 'picasso_self_portrait.jpg'\n",
    "\n",
    "model_path = \"./2nd_Model/EDM_2200.ckpt\"\n",
    "\n",
    "content_path = './Data/Pred_Data/content/'\n",
    "style_path = './Data/Pred_Data/style/'\n",
    "output_path = \"./Data/Pred_Data/output/\"\n"
   ]
  },
  {
   "cell_type": "code",
   "execution_count": 11,
   "metadata": {},
   "outputs": [],
   "source": [
    "#Data Load\n",
    "content_path = os.path.join(content_path, content_name)\n",
    "style_path = os.path.join(style_path, style_name)\n",
    "\n",
    "\n",
    "content_img = cv2.resize(cv2.imread(content_path), (224,224))\n",
    "b , g, r = cv2.split(content_img)\n",
    "content_img = cv2.merge([r,g,b])\n",
    "content_img = [content_img]\n",
    "style_img = cv2.resize(cv2.imread(style_path), (224,224))\n",
    "b , g, r = cv2.split(style_img)\n",
    "style_img = cv2.merge([r,g,b])\n",
    "style_img = [style_img]"
   ]
  },
  {
   "cell_type": "code",
   "execution_count": 12,
   "metadata": {},
   "outputs": [],
   "source": [
    "learning_rate= 0.001\n",
    "lambda_c = 1.\n",
    "lambda_s = 5.\n",
    "lambda_tv = 1e-5\n",
    "\n",
    "config = tf.ConfigProto()\n",
    "config.gpu_options.allocator_type ='BFC'\n",
    "config.gpu_options.allow_growth=True"
   ]
  },
  {
   "cell_type": "code",
   "execution_count": 13,
   "metadata": {
    "scrolled": true
   },
   "outputs": [
    {
     "name": "stdout",
     "output_type": "stream",
     "text": [
      "/media/cvml/1daccd7c-9160-4803-8edb-4f12e04e264f1/jeyoung/A_Unified_Framework_for_Generalizeable_Style_Transfer/vgg/vgg19.npy\n",
      "npy file loaded\n",
      "/media/cvml/1daccd7c-9160-4803-8edb-4f12e04e264f1/jeyoung/A_Unified_Framework_for_Generalizeable_Style_Transfer/vgg/vgg19.npy\n",
      "npy file loaded\n",
      "/media/cvml/1daccd7c-9160-4803-8edb-4f12e04e264f1/jeyoung/A_Unified_Framework_for_Generalizeable_Style_Transfer/vgg/vgg19.npy\n",
      "npy file loaded\n",
      "Model Build Strat..\n",
      "build model started\n",
      "build model finished: 2s\n",
      "build model started\n",
      "build model finished: 2s\n",
      "build model started\n",
      "build model finished: 2s\n",
      "Model Build End..\n",
      "Ending Time..  9.096204042434692 sec\n",
      "INFO:tensorflow:Restoring parameters from ./2nd_Model/EDM_2200.ckpt\n"
     ]
    },
    {
     "data": {
      "image/png": "[encoded data removed]",
      "text/plain": [
       "<Figure size 432x288 with 1 Axes>"
      ]
     },
     "metadata": {
      "needs_background": "light"
     },
     "output_type": "display_data"
    }
   ],
   "source": [
    "# Eval Start\n",
    "\n",
    "tf.reset_default_graph()\n",
    "\n",
    "with tf.Session(config=config) as sess:\n",
    "    \n",
    "    EDM = edm.Model(sess, lambda_c,lambda_s,lambda_tv, learning_rate)\n",
    "    sess.run(tf.initialize_all_variables())\n",
    "    sess.run(tf.local_variables_initializer())\n",
    "    saver = tf.train.Saver()\n",
    "    saver.restore(sess, model_path)\n",
    "    \n",
    "    \n",
    "    output = EDM.predict(style_img, content_img)\n",
    "    \n",
    "    output = output[0].astype(\"uint8\")\n",
    "    fig, ax = plt.subplots()\n",
    "    \n",
    "    ax.imshow(output)\n",
    "    \n",
    "    plt.imsave(os.path.join(output_path,model_path.split(\"/\")[1]+ model_path.split(\"/\")[-1].replace('ckpt', 'jpg')),output)"
   ]
  },
  {
   "cell_type": "code",
   "execution_count": 14,
   "metadata": {
    "scrolled": true
   },
   "outputs": [
    {
     "data": {
      "text/plain": [
       "(224, 224, 3)"
      ]
     },
     "execution_count": 14,
     "metadata": {},
     "output_type": "execute_result"
    }
   ],
   "source": [
    "np.shape(output)"
   ]
  },
  {
   "cell_type": "code",
   "execution_count": 15,
   "metadata": {},
   "outputs": [
    {
     "data": {
      "text/plain": [
       "'2nd_Model'"
      ]
     },
     "execution_count": 15,
     "metadata": {},
     "output_type": "execute_result"
    }
   ],
   "source": [
    "model_path.split(\"/\")[1]"
   ]
  },
  {
   "cell_type": "code",
   "execution_count": 16,
   "metadata": {},
   "outputs": [
    {
     "data": {
      "text/plain": [
       "'.EDM_2200.jpg'"
      ]
     },
     "execution_count": 16,
     "metadata": {},
     "output_type": "execute_result"
    }
   ],
   "source": [
    "model_path.split(\"/\")[0]+ model_path.split(\"/\")[-1].replace('ckpt', 'jpg')"
   ]
  }
 ],
 "metadata": {
  "kernelspec": {
   "display_name": "Python 3",
   "language": "python",
   "name": "python3"
  },
  "language_info": {
   "codemirror_mode": {
    "name": "ipython",
    "version": 3
   },
   "file_extension": ".py",
   "mimetype": "text/x-python",
   "name": "python",
   "nbconvert_exporter": "python",
   "pygments_lexer": "ipython3",
   "version": "3.6.7"
  }
 },
 "nbformat": 4,
 "nbformat_minor": 2
}
